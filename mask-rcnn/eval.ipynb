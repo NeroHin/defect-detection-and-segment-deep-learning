{
 "cells": [
  {
   "cell_type": "code",
   "execution_count": null,
   "metadata": {},
   "outputs": [],
   "source": [
    "import argparse\n",
    "import os\n",
    "import time\n",
    "\n",
    "import torch\n",
    "\n",
    "import pytorch_mask_rcnn as pmr\n",
    "    \n",
    "    \n",
    "def main(args):\n",
    "    device = torch.device(\"cuda\" if torch.cuda.is_available() and args.use_cuda else \"cpu\")\n",
    "    cuda = device.type == \"cuda\"\n",
    "    if cuda: pmr.get_gpu_prop(show=True)\n",
    "    print(\"\\ndevice: {}\".format(device))\n",
    "    \n",
    "    d_test = pmr.datasets(args.dataset, args.data_dir, \"val\", train=True) # VOC 2012. set train=True for eval\n",
    "    #d_test = pmr.datasets(args.dataset, args.data_dir, \"val2017\", train=True) # COCO 2017\n",
    "\n",
    "    print(args)\n",
    "    num_classes = max(d_test.classes) + 1\n",
    "    model = pmr.maskrcnn_resnet50(False, num_classes).to(device)\n",
    "    \n",
    "    checkpoint = torch.load(args.ckpt_path, map_location=device)\n",
    "    model.load_state_dict(checkpoint[\"model\"])\n",
    "    #print(checkpoint[\"eval_info\"])\n",
    "    del checkpoint\n",
    "    if cuda: torch.cuda.empty_cache()\n",
    "\n",
    "    print(\"\\nevaluating...\\n\")\n",
    "    \n",
    "    B = time.time()\n",
    "    eval_output, iter_eval = pmr.evaluate(model, d_test, device, args)\n",
    "    B = time.time() - B\n",
    "    \n",
    "    print(eval_output.get_AP())\n",
    "    if iter_eval is not None:\n",
    "        print(\"\\nTotal time of this evaluation: {:.1f} s, speed: {:.1f} imgs/s\".format(B, 1 / iter_eval))\n",
    "    \n",
    "    \n",
    "if __name__ == \"__main__\":\n",
    "    parser = argparse.ArgumentParser()\n",
    "    parser.add_argument(\"--dataset\", default=\"voc\")\n",
    "    parser.add_argument(\"--data-dir\", default=\"E:/PyTorch/data/voc2012\")\n",
    "    parser.add_argument(\"--ckpt-path\", default=\"E:/PyTorch/scripts/ckpts/maskrcnn_voc-5.pth\")\n",
    "    parser.add_argument(\"--iters\", type=int, default=3) # number of iterations, minus means the entire dataset\n",
    "    args = parser.parse_args([]) # [] is needed if you're using Jupyter Notebook.\n",
    "    \n",
    "    args.use_cuda = True\n",
    "    args.results = os.path.join(os.path.dirname(args.ckpt_path), \"maskrcnn_results.pth\")\n",
    "    \n",
    "    main(args)\n",
    "    \n",
    "    "
   ]
  },
  {
   "cell_type": "code",
   "execution_count": null,
   "metadata": {},
   "outputs": [],
   "source": []
  }
 ],
 "metadata": {
  "kernelspec": {
   "display_name": "Python [conda env:pytorch]",
   "language": "python",
   "name": "conda-env-pytorch-py"
  },
  "language_info": {
   "codemirror_mode": {
    "name": "ipython",
    "version": 3
   },
   "file_extension": ".py",
   "mimetype": "text/x-python",
   "name": "python",
   "nbconvert_exporter": "python",
   "pygments_lexer": "ipython3",
   "version": "3.7.10"
  }
 },
 "nbformat": 4,
 "nbformat_minor": 2
}
